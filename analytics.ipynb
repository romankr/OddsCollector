{
 "cells": [
  {
   "cell_type": "markdown",
   "id": "0bf2d02f",
   "metadata": {},
   "source": [
    "**Important prerequisites**: before runnig this code files *EventResults.json* and *EventPredictions.json* must be present in the same foder. These files are a snapshot of Cosmos DB tables referenced in this project and obtained through [Azure Cosmos DB Desktop Data Migration Tool](https://github.com/azurecosmosdb/data-migration-desktop-tool)."
   ]
  },
  {
   "cell_type": "code",
   "execution_count": null,
   "id": "72221abf",
   "metadata": {},
   "outputs": [],
   "source": [
    "from collections import defaultdict\n",
    "from datetime import datetime\n",
    "import json\n",
    "import pandas as pd"
   ]
  },
  {
   "cell_type": "markdown",
   "id": "8a5433c7",
   "metadata": {},
   "source": [
    "Loading actual results and getting rid of surplus data. It's also important to have sorted distinct values."
   ]
  },
  {
   "cell_type": "code",
   "execution_count": null,
   "id": "1ca00109",
   "metadata": {},
   "outputs": [],
   "source": [
    "class EventResult:\n",
    "    def __init__(self, event_id, winner, commence_time):\n",
    "        self.event_id = event_id\n",
    "        self.winner = winner\n",
    "        self.commence_time = commence_time\n",
    "\n",
    "file_results = open('EventResults.json')\n",
    "data_results = json.load(file_results)\n",
    "file_results.close()\n",
    "\n",
    "results = set([EventResult(result['id'], result['Winner'], result['CommenceTime']) for result in data_results])\n",
    "results = sorted(results, key=lambda result: result.commence_time, reverse=True)"
   ]
  },
  {
   "cell_type": "markdown",
   "id": "682eb5ab",
   "metadata": {},
   "source": [
    "Loading predictions and fetching the most recent one for each event. There is only one prediction per event already."
   ]
  },
  {
   "cell_type": "code",
   "execution_count": null,
   "id": "e4e293e0",
   "metadata": {},
   "outputs": [],
   "source": [
    "class EventPrediction:\n",
    "    def __init__(self, event_id, winner, commence_time):\n",
    "        self.event_id = event_id\n",
    "        self.winner = winner\n",
    "        self.commence_time = commence_time\n",
    "\n",
    "file_predictions = open('EventPredictions.json')\n",
    "data_predictions = json.load(file_predictions)"
   ]
  },
  {
   "cell_type": "markdown",
   "id": "31103f3d",
   "metadata": {},
   "source": [
    "Calculating winrate"
   ]
  },
  {
   "cell_type": "code",
   "execution_count": null,
   "id": "4408ae59",
   "metadata": {},
   "outputs": [],
   "source": [
    "total = 0\n",
    "win_rate = []\n",
    "wins = 0\n",
    "\n",
    "for result in results:\n",
    "    match = next((x for x in data_predictions if x['id'] == result.event_id), None)\n",
    "    \n",
    "    if match is not None:\n",
    "        if result.winner == match['Winner']:\n",
    "            wins += 1\n",
    "        total += 1\n",
    "        win_rate.append(float(wins) / float(total))"
   ]
  },
  {
   "cell_type": "markdown",
   "id": "8457ea23",
   "metadata": {},
   "source": [
    "Visualizing win rate"
   ]
  },
  {
   "cell_type": "code",
   "execution_count": null,
   "id": "c11b00a8",
   "metadata": {},
   "outputs": [],
   "source": [
    "df = pd.DataFrame({ \"win_rate\": win_rate }, index = range(1, len(win_rate) + 1))\n",
    "plot = df.plot(title=\"win_rate\")"
   ]
  }
 ],
 "metadata": {
  "kernelspec": {
   "display_name": "Python 3 (ipykernel)",
   "language": "python",
   "name": "python3"
  },
  "language_info": {
   "codemirror_mode": {
    "name": "ipython",
    "version": 3
   },
   "file_extension": ".py",
   "mimetype": "text/x-python",
   "name": "python",
   "nbconvert_exporter": "python",
   "pygments_lexer": "ipython3",
   "version": "3.9.7"
  }
 },
 "nbformat": 4,
 "nbformat_minor": 5
}
